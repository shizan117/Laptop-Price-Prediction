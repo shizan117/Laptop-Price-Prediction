{
 "cells": [
  {
   "cell_type": "markdown",
   "id": "4688af01",
   "metadata": {
    "papermill": {
     "duration": 0.023929,
     "end_time": "2021-08-01T03:49:47.687031",
     "exception": false,
     "start_time": "2021-08-01T03:49:47.663102",
     "status": "completed"
    },
    "tags": []
   },
   "source": [
    "Table of Contents\n",
    "* [1 Introduction](#introduction)\n",
    "* [2 Preprocessing the data](#_2)\n",
    "    * [2.1 Cleaning the data](#_21)\n",
    "    * [2.2 Encoding the data](#_22)\n",
    "* [3 Exploring the data](#_3)\n",
    "    * [3.1 Graphical summaries](#_31)\n",
    "    * [3.2 Numerical summaries](#_32)\n",
    "* [4 Regression models](#_4)\n",
    "    * [4.1 Train models](#_41)\n",
    "    * [4.2 Cross-validation](#_42)\n",
    "    * [4.3 Tuning hyperparameters](#_43)\n",
    "    * [4.4 Model evaluation on testing data](#_44)\n",
    "    * [4.5 Checking assumptions of linear regression](#_45)\n",
    "* [5 Discussion](#_5)\n",
    "   "
   ]
  },
  {
   "cell_type": "markdown",
   "id": "96724d8e",
   "metadata": {
    "papermill": {
     "duration": 0.020992,
     "end_time": "2021-08-01T03:49:47.732592",
     "exception": false,
     "start_time": "2021-08-01T03:49:47.711600",
     "status": "completed"
    },
    "tags": []
   },
   "source": [
    "# 1 Introduction <a id=\"introduction\"></a>"
   ]
  },
  {
   "cell_type": "markdown",
   "id": "2ff86941",
   "metadata": {
    "papermill": {
     "duration": 0.022383,
     "end_time": "2021-08-01T03:49:47.776510",
     "exception": false,
     "start_time": "2021-08-01T03:49:47.754127",
     "status": "completed"
    },
    "tags": []
   },
   "source": [
    "In this notebook, we will try to predict the price of a laptop using different specifications about the laptop."
   ]
  },
  {
   "cell_type": "code",
   "execution_count": 1,
   "id": "37754840",
   "metadata": {
    "_cell_guid": "b1076dfc-b9ad-4769-8c92-a6c4dae69d19",
    "_uuid": "8f2839f25d086af736a60e9eeb907d3b93b6e0e5",
    "execution": {
     "iopub.execute_input": "2021-08-01T03:49:47.834570Z",
     "iopub.status.busy": "2021-08-01T03:49:47.833101Z",
     "iopub.status.idle": "2021-08-01T03:49:48.960659Z",
     "shell.execute_reply": "2021-08-01T03:49:48.959752Z",
     "shell.execute_reply.started": "2021-08-01T03:15:56.660417Z"
    },
    "papermill": {
     "duration": 1.16034,
     "end_time": "2021-08-01T03:49:48.960834",
     "exception": false,
     "start_time": "2021-08-01T03:49:47.800494",
     "status": "completed"
    },
    "tags": []
   },
   "outputs": [],
   "source": [
    "# Import the data\n",
    "import numpy as np # linear algebra\n",
    "import pandas as pd # data processing, CSV file I/O (e.g. pd.read_csv)\n",
    "import sklearn as sk\n",
    "import re\n",
    "fname = \"/kaggle/input/laptop-price-prediction-using-specifications/LaptopPricePrediction.csv\"\n",
    "df_orig = pd.read_csv(fname)"
   ]
  },
  {
   "cell_type": "markdown",
   "id": "cfd9b16f",
   "metadata": {
    "papermill": {
     "duration": 0.019677,
     "end_time": "2021-08-01T03:49:49.001106",
     "exception": false,
     "start_time": "2021-08-01T03:49:48.981429",
     "status": "completed"
    },
    "tags": []
   },
   "source": [
    "# 2 Preprocessing the data <a id=\"_2\"></a>"
   ]
  },
  {
   "cell_type": "markdown",
   "id": "468b39ca",
   "metadata": {
    "papermill": {
     "duration": 0.020422,
     "end_time": "2021-08-01T03:49:49.041644",
     "exception": false,
     "start_time": "2021-08-01T03:49:49.021222",
     "status": "completed"
    },
    "tags": []
   },
   "source": [
    "## 2.1 Cleaning the data <a id=\"_21\"></a>"
   ]
  },
  {
   "cell_type": "code",
   "execution_count": 2,
   "id": "aa7b7a97",
   "metadata": {
    "execution": {
     "iopub.execute_input": "2021-08-01T03:49:49.123884Z",
     "iopub.status.busy": "2021-08-01T03:49:49.086474Z",
     "iopub.status.idle": "2021-08-01T03:49:49.204161Z",
     "shell.execute_reply": "2021-08-01T03:49:49.203209Z",
     "shell.execute_reply.started": "2021-08-01T03:15:57.760134Z"
    },
    "papermill": {
     "duration": 0.141869,
     "end_time": "2021-08-01T03:49:49.204403",
     "exception": false,
     "start_time": "2021-08-01T03:49:49.062534",
     "status": "completed"
    },
    "tags": []
   },
   "outputs": [
    {
     "name": "stdout",
     "output_type": "stream",
     "text": [
      "        Processor  RAM Operating System  Display  Warranty  Price  rating  \\\n",
      "0     i5_10th_Gen  8.0            win10    39.62        12  43990     3.9   \n",
      "1     i3_11th_Gen  8.0            win10    35.56        12  43990     4.2   \n",
      "2  Intel_Pentium_  8.0            win10    35.56        12  31490     4.6   \n",
      "3     i3_11th_Gen  8.0            win10    35.56        12  40990     4.1   \n",
      "4     AMD_Athlon_  4.0            win10    39.62        12  27490     4.1   \n",
      "\n",
      "   Storage_GB Storage_Type RAM_Type Brand_Name CPU_Brand  \n",
      "0        1024          HDD     DDR4     Lenovo     Intel  \n",
      "1         256          SSD     DDR4     Lenovo     Intel  \n",
      "2         256          SSD     DDR4         HP     Intel  \n",
      "3         256          SSD     DDR4         HP     Intel  \n",
      "4        1024          HDD     DDR4         HP       AMD  \n"
     ]
    }
   ],
   "source": [
    "# Clean it\n",
    "df = df_orig.copy()\n",
    "\n",
    "# Drop unamed col\n",
    "df = df.drop(list(df.filter(regex=\"Unnamed.*\")),axis=1)\n",
    "#print(df.dtypes)\n",
    "\n",
    "# Convert price to a number\n",
    "df.Price = df.Price.str.replace(r'[^0-9]','',regex=True).astype('int')\n",
    "\n",
    "# Convert storage to number\n",
    "# Remove the secondary storage\n",
    "df.Storage = df.Storage.str.split('|').str[0]\n",
    "df.Storage = np.where(df.Storage.str.split(' ').str[0] == \"M.2\",\"256 GB SSD\",df.Storage)\n",
    "df['Storage_GB'] = np.where(\n",
    "    df.Storage.str.split(' ').str[1] == \"TB\",\n",
    "    pd.to_numeric(df.Storage.str.split(' ').str[0],errors=\"coerce\")*1024,\n",
    "    pd.to_numeric(df.Storage.str.split(' ').str[0],errors=\"coerce\")\n",
    ")\n",
    "str_med = df.Storage_GB.mean()\n",
    "df.Storage_GB = df.Storage_GB.fillna(value=str_med)\n",
    "df['Storage_Type'] = np.where(df.Storage.str.contains('SSD'),\"SSD\",\"HDD\")\n",
    "df = df.drop('Storage',axis=1)\n",
    "\n",
    "# Convert display size to number\n",
    "df.Display = pd.to_numeric(\n",
    "    df.Display.str.split(' ').str[0].replace(r'[^0-9.]','',regex=True),\n",
    "    errors=\"coerce\"\n",
    ")\n",
    "# Fix the inches, convert to cm\n",
    "df.loc[df.Display == 15.6,\"Display\"] = 39.624 # 15.6 * 2.54\n",
    "# Fill NAs with mean\n",
    "disp_med = df.Display.mean()\n",
    "df.Display = df.Display.fillna(value=disp_med)\n",
    "\n",
    "# Convert RAM to number\n",
    "def ram_type(x):\n",
    "    x = str(x)\n",
    "    if \"DDR3\" in x:\n",
    "        return \"DDR3\"\n",
    "    elif \"DDR4\" in x:\n",
    "        return \"DDR4\"\n",
    "    else:\n",
    "        return \"DDR4\"\n",
    "\n",
    "df[\"RAM_Type\"] = df.RAM.apply(ram_type)\n",
    "df.RAM = pd.to_numeric(df.RAM.str.split(' ').str[0],errors=\"coerce\")\n",
    "# Fix MB values\n",
    "df.RAM = df.RAM.apply(lambda x: x if x<100 else x/1024)\n",
    "ram_med = df.RAM.mean()\n",
    "df.RAM = df.RAM.fillna(value=ram_med)\n",
    "#print(df.RAM.describe())\n",
    "\n",
    "# Convert Brand Name and Model Name\n",
    "df['Brand_Name'] = df.Name.str.split(' ').str[0]\n",
    "#df['Model_Name'] = df.Name.str.split(' ').str[0:2].str.join('_')\n",
    "df = df.drop('Name',axis=1)\n",
    "\n",
    "# Convert CPU name\n",
    "def cpu_conv(x):\n",
    "    x = str(x)\n",
    "    #print(\"***\",x)\n",
    "    cpu_name = \"\"\n",
    "    cpu_gen = \"\"\n",
    "    if re.search('[0-9]{1,2}[a-z]{2} Gen',x):\n",
    "        cpu_gen = re.search('([0-9]{1,2}[a-z]{2} Gen)',x).group(1)\n",
    "    if re.search('i[0-9]',x):\n",
    "        cpu_name = re.search('(i[0-9])',x).group(1)\n",
    "    elif re.search('Ryzen [0-9]',x):\n",
    "        cpu_name = re.search('(Ryzen [0-9])',x).group(1)\n",
    "    elif re.search('A[0-9]',x):\n",
    "        cpu_name = re.search('(A[0-9])',x).group(1)\n",
    "    elif re.search('AMD \\w+ ',x):\n",
    "        cpu_name = re.search('(AMD \\w+) ',x).group(1)\n",
    "    elif re.search(\"Intel \\w+ \",x):\n",
    "        cpu_name = re.search('(Intel \\w+) ',x).group(1)\n",
    "    else:\n",
    "        cpu_name = \"Unknown\"\n",
    "    cpu = f\"{cpu_name.replace(' ','_')}_{cpu_gen.replace(' ','_')}\"\n",
    "    #cpu = cpu_name.replace(' ','_')\n",
    "    #print(cpu)\n",
    "    return cpu\n",
    "def cpu_brand(x):\n",
    "    x = str(x)\n",
    "    brand = \"Other\"\n",
    "    if \"Core i\" in x:\n",
    "        brand = \"Intel\"\n",
    "    elif \"Intel\" in x:\n",
    "        brand = \"Intel\"\n",
    "    elif \"AMD\" in x:\n",
    "        brand = \"AMD\"\n",
    "    return brand\n",
    "df[\"CPU_Brand\"] = df.Processor.apply(cpu_brand)\n",
    "df.Processor = df.Processor.apply(cpu_conv)\n",
    "\n",
    "# Convert OS name\n",
    "os_dict = {\n",
    "    \"64 bit Windows 10 Operating System\": \"win10\",\n",
    "    \"Windows 10 Operating System\": \"win10\",\n",
    "    \"Mac OS Operating System\": \"mac\",\n",
    "    \"Pre-installed Genuine Windows 10 Operating System (Includes Built-in Security, Free Automated Updates, Latest Features)\":\n",
    "        \"win10_sec\",\n",
    "    \"DOS Operating System\":\"dos\",\n",
    "    \"64 bit Chrome Operating System\": \"chrome\"\n",
    "}\n",
    "df[\"Operating System\"] = df[\"Operating System\"].apply(lambda x: os_dict.get(x, np.nan))\n",
    "\n",
    "# Convert warranty\n",
    "def warr_conv(x):\n",
    "    x = str(x).lower()\n",
    "    time = 0\n",
    "    if \"ne-year\" in x:\n",
    "        time = 12\n",
    "    elif \"year\" in x:\n",
    "        time = int(x.split(' ')[0])*12\n",
    "    elif \"month\" in x:\n",
    "        time = int(x.split(' ')[0])\n",
    "    return time\n",
    "df.Warranty = df.Warranty.apply(warr_conv)\n",
    "\n",
    "print(df.head())"
   ]
  },
  {
   "cell_type": "markdown",
   "id": "a044f1cd",
   "metadata": {
    "papermill": {
     "duration": 0.020184,
     "end_time": "2021-08-01T03:49:49.245899",
     "exception": false,
     "start_time": "2021-08-01T03:49:49.225715",
     "status": "completed"
    },
    "tags": []
   },
   "source": [
    "## 2.2 Encoding the data <a id=\"_22\"></a>\n",
    "We are encoding most categorical variables using Target Encoding because many variables have high cardinality (many different categories). For binary variables we can just one-hot encode."
   ]
  },
  {
   "cell_type": "code",
   "execution_count": 3,
   "id": "406a4353",
   "metadata": {
    "execution": {
     "iopub.execute_input": "2021-08-01T03:49:49.302071Z",
     "iopub.status.busy": "2021-08-01T03:49:49.301325Z",
     "iopub.status.idle": "2021-08-01T03:49:49.332122Z",
     "shell.execute_reply": "2021-08-01T03:49:49.331512Z",
     "shell.execute_reply.started": "2021-08-01T03:15:57.883008Z"
    },
    "papermill": {
     "duration": 0.06571,
     "end_time": "2021-08-01T03:49:49.332275",
     "exception": false,
     "start_time": "2021-08-01T03:49:49.266565",
     "status": "completed"
    },
    "tags": []
   },
   "outputs": [],
   "source": [
    "# encode the data\n",
    "# One-hot encode low-cardinality data\n",
    "if 'Storage_Type' in df and 'CPU_Brand' in df and 'RAM_Type' in df:\n",
    "    one_hot = pd.get_dummies(df['Storage_Type'],drop_first=True)\n",
    "    df = df.drop('Storage_Type',axis=1).join(one_hot)\n",
    "\n",
    "    one_hot = pd.get_dummies(df['CPU_Brand'],drop_first=True)\n",
    "    df = df.drop('CPU_Brand',axis=1).join(one_hot)\n",
    "    \n",
    "    one_hot = pd.get_dummies(df['RAM_Type'],drop_first=True)\n",
    "    df = df.drop('RAM_Type',axis=1).join(one_hot)\n",
    "\n",
    "# Target encode other data\n",
    "cols = [col for col in df.columns if df[col].dtype == \"O\"]\n",
    "for col in cols:\n",
    "    mean_labels = df.groupby([col]).Price.mean()\n",
    "    #print(mean_labels.to_dict())\n",
    "    df[col] = df[col].map(mean_labels.to_dict())\n",
    "#print(df)"
   ]
  },
  {
   "cell_type": "markdown",
   "id": "af3bfd1e",
   "metadata": {
    "papermill": {
     "duration": 0.020491,
     "end_time": "2021-08-01T03:49:49.374760",
     "exception": false,
     "start_time": "2021-08-01T03:49:49.354269",
     "status": "completed"
    },
    "tags": []
   },
   "source": [
    "# 3 Exploring the data <a id=\"_3\"></a>"
   ]
  },
  {
   "cell_type": "markdown",
   "id": "4f5abd13",
   "metadata": {
    "papermill": {
     "duration": 0.020622,
     "end_time": "2021-08-01T03:49:49.416413",
     "exception": false,
     "start_time": "2021-08-01T03:49:49.395791",
     "status": "completed"
    },
    "tags": []
   },
   "source": [
    "## 3.1 Graphical summaries <a id=\"_31\"></a>"
   ]
  },
  {
   "cell_type": "code",
   "execution_count": 4,
   "id": "544b1c92",
   "metadata": {
    "execution": {
     "iopub.execute_input": "2021-08-01T03:49:49.486853Z",
     "iopub.status.busy": "2021-08-01T03:49:49.486135Z",
     "iopub.status.idle": "2021-08-01T03:49:51.456198Z",
     "shell.execute_reply": "2021-08-01T03:49:51.456754Z",
     "shell.execute_reply.started": "2021-08-01T03:15:57.925922Z"
    },
    "papermill": {
     "duration": 2.019139,
     "end_time": "2021-08-01T03:49:51.456945",
     "exception": false,
     "start_time": "2021-08-01T03:49:49.437806",
     "status": "completed"
    },
    "tags": []
   },
   "outputs": [
    {
     "data": {
      "image/png": "[encoded data removed]",
      "text/plain": [
       "<Figure size 432x288 with 1 Axes>"
      ]
     },
     "metadata": {
      "needs_background": "light"
     },
     "output_type": "display_data"
    },
    {
     "data": {
      "image/png": "[encoded data removed]",
      "text/plain": [
       "<Figure size 432x288 with 1 Axes>"
      ]
     },
     "metadata": {
      "needs_background": "light"
     },
     "output_type": "display_data"
    },
    {
     "data": {
      "image/png": "[encoded data removed]",
      "text/plain": [
       "<Figure size 432x288 with 1 Axes>"
      ]
     },
     "metadata": {
      "needs_background": "light"
     },
     "output_type": "display_data"
    },
    {
     "data": {
      "image/png": "[encoded data removed]",
      "text/plain": [
       "<Figure size 432x288 with 1 Axes>"
      ]
     },
     "metadata": {
      "needs_background": "light"
     },
     "output_type": "display_data"
    },
    {
     "data": {
      "image/png": "[encoded data removed]",
      "text/plain": [
       "<Figure size 432x288 with 1 Axes>"
      ]
     },
     "metadata": {
      "needs_background": "light"
     },
     "output_type": "display_data"
    },
    {
     "data": {
      "image/png": "[encoded data removed]",
      "text/plain": [
       "<Figure size 432x288 with 1 Axes>"
      ]
     },
     "metadata": {
      "needs_background": "light"
     },
     "output_type": "display_data"
    },
    {
     "data": {
      "image/png": "[encoded data removed]",
      "text/plain": [
       "<Figure size 432x288 with 1 Axes>"
      ]
     },
     "metadata": {
      "needs_background": "light"
     },
     "output_type": "display_data"
    },
    {
     "data": {
      "image/png": "[encoded data removed]",
      "text/plain": [
       "<Figure size 432x288 with 1 Axes>"
      ]
     },
     "metadata": {
      "needs_background": "light"
     },
     "output_type": "display_data"
    },
    {
     "data": {
      "image/png": "[encoded data removed]",
      "text/plain": [
       "<Figure size 432x288 with 1 Axes>"
      ]
     },
     "metadata": {
      "needs_background": "light"
     },
     "output_type": "display_data"
    },
    {
     "data": {
      "image/png": "[encoded data removed]",
      "text/plain": [
       "<Figure size 432x288 with 1 Axes>"
      ]
     },
     "metadata": {
      "needs_background": "light"
     },
     "output_type": "display_data"
    },
    {
     "data": {
      "image/png": "[encoded data removed]",
      "text/plain": [
       "<Figure size 432x288 with 1 Axes>"
      ]
     },
     "metadata": {
      "needs_background": "light"
     },
     "output_type": "display_data"
    }
   ],
   "source": [
    "from matplotlib import pyplot as plt\n",
    "plt.hist(df.Price)\n",
    "plt.title(\"Price histogram\")\n",
    "plt.show()\n",
    "plt.hist(df.RAM)\n",
    "plt.title(\"RAM histogram\")\n",
    "plt.show()\n",
    "plt.hist(df.Display)\n",
    "plt.title(\"Display histogram\")\n",
    "plt.show()\n",
    "plt.scatter(df.Brand_Name, df.Price)\n",
    "plt.title(\"Price vs Brand\")\n",
    "plt.show()\n",
    "plt.scatter(df.RAM, df.Price)\n",
    "plt.title(\"Price vs RAM\")\n",
    "plt.show()\n",
    "plt.scatter(df.Processor, df.Price)\n",
    "plt.title(\"Price vs Processor\")\n",
    "plt.show()\n",
    "plt.scatter(df.Display, df.Price)\n",
    "plt.title(\"Price vs Display\")\n",
    "plt.show()\n",
    "plt.scatter(df.Brand_Name*df.RAM,df.Price)\n",
    "plt.title(\"Price vs Brand*RAM\")\n",
    "plt.show()\n",
    "plt.scatter(df.Processor*df.RAM, df.Price)\n",
    "plt.title(\"Price vs Proc*RAM\")\n",
    "plt.show()\n",
    "plt.scatter(df.Processor*df.RAM*df.Brand_Name,df.Price)\n",
    "plt.title(\"Price vs Proc*RAM*Brand\")\n",
    "plt.show()\n",
    "plt.scatter(df.Processor*df.RAM*df.Brand_Name*df[\"Operating System\"],df.Price)\n",
    "plt.title(\"Price vs Proc*RAM*Brand*OS\")\n",
    "plt.show()"
   ]
  },
  {
   "cell_type": "markdown",
   "id": "89afa5ea",
   "metadata": {
    "papermill": {
     "duration": 0.031355,
     "end_time": "2021-08-01T03:49:51.519601",
     "exception": false,
     "start_time": "2021-08-01T03:49:51.488246",
     "status": "completed"
    },
    "tags": []
   },
   "source": [
    "The data seems to have high variance (highly spread out), so it may be difficult to predict prices from these features. The data points seem spread out from a best fit line (high residual values). The interaction between processor, brand, and RAM seems to be a good predictor, as well as the brand and RAM alone."
   ]
  },
  {
   "cell_type": "markdown",
   "id": "b97f414d",
   "metadata": {
    "papermill": {
     "duration": 0.032584,
     "end_time": "2021-08-01T03:49:51.585218",
     "exception": false,
     "start_time": "2021-08-01T03:49:51.552634",
     "status": "completed"
    },
    "tags": []
   },
   "source": [
    "## 3.2 Numerical summaries <a id=\"_32\"></a>"
   ]
  },
  {
   "cell_type": "code",
   "execution_count": 5,
   "id": "1cadc668",
   "metadata": {
    "execution": {
     "iopub.execute_input": "2021-08-01T03:49:51.662365Z",
     "iopub.status.busy": "2021-08-01T03:49:51.661605Z",
     "iopub.status.idle": "2021-08-01T03:49:51.695783Z",
     "shell.execute_reply": "2021-08-01T03:49:51.696711Z",
     "shell.execute_reply.started": "2021-08-01T03:15:59.896944Z"
    },
    "papermill": {
     "duration": 0.078891,
     "end_time": "2021-08-01T03:49:51.697022",
     "exception": false,
     "start_time": "2021-08-01T03:49:51.618131",
     "status": "completed"
    },
    "tags": []
   },
   "outputs": [
    {
     "name": "stdout",
     "output_type": "stream",
     "text": [
      "Summary of Price values: count       550.000000\n",
      "mean      81364.138182\n",
      "std       45119.284969\n",
      "min       17990.000000\n",
      "25%       46990.000000\n",
      "50%       65990.000000\n",
      "75%      107990.000000\n",
      "max      338990.000000\n",
      "Name: Price, dtype: float64\n",
      "Linear correlations:\n",
      "                     Price        r2\n",
      "Price             1.000000  1.000000\n",
      "Proc_Brand_RAM    0.701526  0.492139\n",
      "RAM               0.573540  0.328948\n",
      "Brand_Name        0.540727  0.292386\n",
      "Processor         0.248973  0.061987\n",
      "Operating System  0.241420  0.058283\n",
      "Intel            -0.055424  0.003072\n",
      "SSD               0.053350  0.002846\n",
      "DDR4             -0.041001  0.001681\n",
      "Display          -0.032377  0.001048\n",
      "Warranty          0.021708  0.000471\n",
      "Storage_GB       -0.017648  0.000311\n",
      "rating            0.009237  0.000085\n",
      "Ideal R^2: 0.5213529173269126\n",
      "Ideal RMSE: 31187.082140731505\n"
     ]
    }
   ],
   "source": [
    "print(f\"Summary of Price values: {df.Price.describe()}\")\n",
    "df[\"Proc_Brand_RAM\"] = (df.Processor*df.RAM*df.Brand_Name)\n",
    "df = df.drop(\"Unnamed: 0\",axis=1,errors=\"ignore\")\n",
    "print(\"Linear correlations:\")\n",
    "all_corr = df.corr(method=\"pearson\")\n",
    "corrs = (all_corr.filter(['Price'])\n",
    "      .query('abs(Price) > 0')\n",
    "      .sort_values(by='Price',ascending=False,key=abs,axis=0)\n",
    "      .assign(r2 = lambda x: x.Price**2)\n",
    ")\n",
    "print(corrs)\n",
    "# Find RMSE from R^2\n",
    "# R^2 = 1 - SSR/SST \n",
    "# R^2 - 1 = -SSR/SST\n",
    "# -R^2 + 1\n",
    "# 1 - R^2 = SSR/SST\n",
    "# SST*(1-R^2) = SSR\n",
    "# Use definition of Mean Squared Error (MSE)\n",
    "# MSE = (1/n)*SSR\n",
    "# RMSE = sqrt((1/n)*SSR)\n",
    "# RMSE = sqrt((1/n)*SST*(1-R^2))\n",
    "n = df.Price.size\n",
    "p = len(df.columns) - 1\n",
    "corr_matrix = all_corr.drop([\"Price\"],axis=1).drop([\"Price\"],axis=0).to_numpy()\n",
    "price_corr = all_corr.filter(['Price']).query('Price != 1').to_numpy()\n",
    "total_r2 = (price_corr.transpose() @ np.linalg.inv(corr_matrix) @ price_corr).item()\n",
    "#total_r2 = 1 - ((1 - total_r2)*(n-1)/(n-p-1))\n",
    "sst = sum(np.square(df.Price - df.Price.mean()))\n",
    "rmse = np.sqrt((1/n)*sst*(1-total_r2))\n",
    "print(f\"Ideal R^2: {total_r2}\")\n",
    "print(f\"Ideal RMSE: {rmse}\")"
   ]
  },
  {
   "cell_type": "markdown",
   "id": "a365e727",
   "metadata": {
    "papermill": {
     "duration": 0.054072,
     "end_time": "2021-08-01T03:49:51.805751",
     "exception": false,
     "start_time": "2021-08-01T03:49:51.751679",
     "status": "completed"
    },
    "tags": []
   },
   "source": [
    "The R^2 value using the Pearson (linear) correlation coefficient for the data is 0.52. This means the predictors explain 52% of the variance of the target (price). Root Mean Squared Error can be calculated from this R^2 value, and we get a value of about 31,187. This is the goal R^2 and RMSE value for ML models. The R^2 value of 0.52 corresponds to a R (correlation coefficient) value of about 0.72, which is a moderate linear relationship. Other correlation coefficients, such as Spearman and Kendall (these assess non-linear correlations, usually with ranked data) showed lower values.\n",
    "\n",
    "The strongest correlations with Price besides Price itself are the interaction between Processor, Brand, and RAM, then RAM, Brand Name, the Operating System, and the Processor individually. The RAM for example, explains 32.9% of the variance of the computer price, and the brand name explains 29.2% of the variance.\n",
    "\n",
    "Knowing these features, we can create models to predict the price of a laptop based on these features."
   ]
  },
  {
   "cell_type": "markdown",
   "id": "2b7fbd8f",
   "metadata": {
    "papermill": {
     "duration": 0.029717,
     "end_time": "2021-08-01T03:49:51.869076",
     "exception": false,
     "start_time": "2021-08-01T03:49:51.839359",
     "status": "completed"
    },
    "tags": []
   },
   "source": [
    "# 4 Regression models <a id=\"_4\"></a>"
   ]
  },
  {
   "cell_type": "markdown",
   "id": "ad105e58",
   "metadata": {
    "papermill": {
     "duration": 0.031693,
     "end_time": "2021-08-01T03:49:51.932826",
     "exception": false,
     "start_time": "2021-08-01T03:49:51.901133",
     "status": "completed"
    },
    "tags": []
   },
   "source": [
    "## 4.1 Train models <a id=\"_41\"></a>"
   ]
  },
  {
   "cell_type": "code",
   "execution_count": 6,
   "id": "de1f1f40",
   "metadata": {
    "execution": {
     "iopub.execute_input": "2021-08-01T03:49:52.007920Z",
     "iopub.status.busy": "2021-08-01T03:49:52.007182Z",
     "iopub.status.idle": "2021-08-01T03:49:53.144142Z",
     "shell.execute_reply": "2021-08-01T03:49:53.143563Z",
     "shell.execute_reply.started": "2021-08-01T03:15:59.951829Z"
    },
    "papermill": {
     "duration": 1.181069,
     "end_time": "2021-08-01T03:49:53.144290",
     "exception": false,
     "start_time": "2021-08-01T03:49:51.963221",
     "status": "completed"
    },
    "tags": []
   },
   "outputs": [],
   "source": [
    "from sklearn.model_selection import train_test_split, cross_val_score\n",
    "from sklearn.linear_model import LinearRegression, Ridge, RidgeCV, Lasso\n",
    "from sklearn.metrics import r2_score, mean_squared_error, mean_absolute_error\n",
    "from sklearn.preprocessing import PolynomialFeatures\n",
    "from sklearn.ensemble import RandomForestRegressor, VotingRegressor, StackingRegressor\n",
    "from sklearn.ensemble import GradientBoostingRegressor, ExtraTreesRegressor\n",
    "y = df.Price\n",
    "X = df.drop('Price',axis=1,errors=\"ignore\")#.filter([\"Brand\",\"RAM\",\"Processor\"])\n",
    "X_train, X_test, y_train, y_test = train_test_split(X, y, test_size=0.33, random_state=42)\n",
    "\n",
    "# Linear model\n",
    "lm = LinearRegression()\n",
    "lm.fit(X_train, y_train)\n",
    "# Random forest\n",
    "rf_params = {'n_estimators': 1000, 'min_samples_split': 2, 'min_samples_leaf': 2, 'max_features': 'sqrt', 'max_depth': 5}\n",
    "rf = RandomForestRegressor(n_estimators=100, min_samples_split=2, min_samples_leaf=2, max_features=\"sqrt\",max_depth=5, random_state=1)\n",
    "rf.fit(X_train, y_train)\n",
    "# Gradient Boosting\n",
    "gb_params = {'n_estimators': 200, 'min_samples_split': 100, 'min_samples_leaf': 10, 'max_features': 'sqrt', 'max_depth': 15}\n",
    "gb = GradientBoostingRegressor(n_estimators=200, min_samples_split=100, min_samples_leaf=10, max_features=\"sqrt\",max_depth=15, random_state=1)\n",
    "gb.fit(X_train, y_train)\n",
    "# Extra Trees\n",
    "et_params = {'n_estimators': 1000, 'min_samples_split': 2, 'min_samples_leaf': 2, 'max_features': 'sqrt', 'max_depth': 5}\n",
    "et = ExtraTreesRegressor(n_estimators=100, min_samples_split=2, min_samples_leaf=2, max_features=\"sqrt\",max_depth=5, random_state=1)\n",
    "et.fit(X_train, y_train)\n",
    "# Voting regressor\n",
    "#vr = VotingRegressor([('lm',lm),('rf',rf),('gb',gb),('et',et)])\n",
    "vr = VotingRegressor([('lm',lm),('rf',rf)])\n",
    "vr.fit(X_train, y_train)\n",
    "\n",
    "models = [lm, rf, gb, et, vr]"
   ]
  },
  {
   "cell_type": "markdown",
   "id": "297a4db1",
   "metadata": {
    "papermill": {
     "duration": 0.029411,
     "end_time": "2021-08-01T03:49:53.206112",
     "exception": false,
     "start_time": "2021-08-01T03:49:53.176701",
     "status": "completed"
    },
    "tags": []
   },
   "source": [
    "## 4.2 Cross-validation <a id=\"_42\"></a>"
   ]
  },
  {
   "cell_type": "code",
   "execution_count": 7,
   "id": "4da97590",
   "metadata": {
    "execution": {
     "iopub.execute_input": "2021-08-01T03:49:53.278745Z",
     "iopub.status.busy": "2021-08-01T03:49:53.278011Z",
     "iopub.status.idle": "2021-08-01T03:49:56.353555Z",
     "shell.execute_reply": "2021-08-01T03:49:56.354046Z",
     "shell.execute_reply.started": "2021-08-01T03:16:01.090055Z"
    },
    "papermill": {
     "duration": 3.116771,
     "end_time": "2021-08-01T03:49:56.354288",
     "exception": false,
     "start_time": "2021-08-01T03:49:53.237517",
     "status": "completed"
    },
    "tags": []
   },
   "outputs": [
    {
     "name": "stdout",
     "output_type": "stream",
     "text": [
      "LinearRegression: Mean=0.46, Stdev=0.13, 95% CI=(0.20,0.73)\n",
      "RandomForestRegressor: Mean=0.40, Stdev=0.11, 95% CI=(0.18,0.63)\n",
      "GradientBoostingRegressor: Mean=0.30, Stdev=0.17, 95% CI=(-0.05,0.65)\n",
      "ExtraTreesRegressor: Mean=0.36, Stdev=0.09, 95% CI=(0.17,0.55)\n",
      "VotingRegressor: Mean=0.45, Stdev=0.11, 95% CI=(0.23,0.68)\n"
     ]
    }
   ],
   "source": [
    "for model in models:\n",
    "    xval = cross_val_score(model, X_train, y_train, cv=5, scoring='r2')\n",
    "    xvm = xval.mean()\n",
    "    xvs = xval.std()\n",
    "    mname = str(model).split('(')[0]\n",
    "    print(f\"{mname}: Mean={xvm:.2f}, Stdev={xvs:.2f}, 95% CI=({xvm-2*xvs:.2f},{xvm+2*xvs:.2f})\")"
   ]
  },
  {
   "cell_type": "markdown",
   "id": "f0100b61",
   "metadata": {
    "papermill": {
     "duration": 0.031105,
     "end_time": "2021-08-01T03:49:56.416659",
     "exception": false,
     "start_time": "2021-08-01T03:49:56.385554",
     "status": "completed"
    },
    "tags": []
   },
   "source": [
    "The cross-validation shows that the best performing model is the Linear Regression, with the voting regressor in second place, with slightly lower variance than the Linear Regression."
   ]
  },
  {
   "cell_type": "markdown",
   "id": "9b8ac423",
   "metadata": {
    "papermill": {
     "duration": 0.031818,
     "end_time": "2021-08-01T03:49:56.481513",
     "exception": false,
     "start_time": "2021-08-01T03:49:56.449695",
     "status": "completed"
    },
    "tags": []
   },
   "source": [
    "## 4.3 Tuning hyperparameters <a id=\"_43\"></a>"
   ]
  },
  {
   "cell_type": "code",
   "execution_count": 8,
   "id": "1a831c93",
   "metadata": {
    "execution": {
     "iopub.execute_input": "2021-08-01T03:49:56.549696Z",
     "iopub.status.busy": "2021-08-01T03:49:56.548916Z",
     "iopub.status.idle": "2021-08-01T03:49:56.568357Z",
     "shell.execute_reply": "2021-08-01T03:49:56.568944Z",
     "shell.execute_reply.started": "2021-08-01T03:16:04.102629Z"
    },
    "papermill": {
     "duration": 0.055868,
     "end_time": "2021-08-01T03:49:56.569224",
     "exception": false,
     "start_time": "2021-08-01T03:49:56.513356",
     "status": "completed"
    },
    "tags": []
   },
   "outputs": [],
   "source": [
    "rf_tune = False\n",
    "gb_tune = False\n",
    "et_tune = False\n",
    "for model in models:\n",
    "    mname = str(model).split('(')[0]\n",
    "    #print(f\"{mname}: {model.get_params()}\\n\")\n",
    "from sklearn.model_selection import RandomizedSearchCV\n",
    "n_estimators = [int(x) for x in np.linspace(start = 100, stop = 1200, num = 12)]\n",
    "max_features = ['auto', 'sqrt']\n",
    "max_depth = [int(x) for x in np.linspace(5, 30, num = 6)]\n",
    "min_samples_split = [2, 5, 10, 15, 100]\n",
    "min_samples_leaf = [1, 2, 5, 10]\n",
    "# bootstrap = [True, False]\n",
    "random_grid = {'n_estimators': n_estimators,\n",
    "               'max_features': max_features,\n",
    "               'max_depth': max_depth,\n",
    "               'min_samples_split': min_samples_split,\n",
    "               'min_samples_leaf': min_samples_leaf}\n",
    "rg2 = random_grid.copy()\n",
    "#rg2['gamma']\n",
    "if rf_tune:\n",
    "    rs = RandomizedSearchCV(estimator = rf, param_distributions = random_grid, n_iter = 100, cv = 3, verbose=2, random_state=42, n_jobs = 4)\n",
    "    rs.fit(X_train, y_train)\n",
    "    print(rs.best_params_)\n",
    "    print(rs.best_score_)\n",
    "if gb_tune:\n",
    "    rs = RandomizedSearchCV(estimator = gb, param_distributions = random_grid, n_iter = 100, cv = 3, verbose=2, random_state=42, n_jobs = 4)\n",
    "    rs.fit(X_train, y_train)\n",
    "    print(rs.best_params_)\n",
    "    print(rs.best_score_)\n",
    "if et_tune:\n",
    "    rs =  RandomizedSearchCV(estimator = et, param_distributions = random_grid, n_iter = 100, cv = 3, verbose=2, random_state=42, n_jobs = 4)\n",
    "    rs.fit(X_train, y_train)\n",
    "    print(rs.best_params_)\n",
    "    print(rs.best_score_)"
   ]
  },
  {
   "cell_type": "markdown",
   "id": "9f2264e0",
   "metadata": {
    "papermill": {
     "duration": 0.031213,
     "end_time": "2021-08-01T03:49:56.632708",
     "exception": false,
     "start_time": "2021-08-01T03:49:56.601495",
     "status": "completed"
    },
    "tags": []
   },
   "source": [
    "## 4.4 Model evalulation on testing data <a id=\"_44\"></a>"
   ]
  },
  {
   "cell_type": "code",
   "execution_count": 9,
   "id": "d96dc1f5",
   "metadata": {
    "execution": {
     "iopub.execute_input": "2021-08-01T03:49:56.699295Z",
     "iopub.status.busy": "2021-08-01T03:49:56.698634Z",
     "iopub.status.idle": "2021-08-01T03:49:56.816602Z",
     "shell.execute_reply": "2021-08-01T03:49:56.815767Z",
     "shell.execute_reply.started": "2021-08-01T03:16:04.126031Z"
    },
    "papermill": {
     "duration": 0.152032,
     "end_time": "2021-08-01T03:49:56.816811",
     "exception": false,
     "start_time": "2021-08-01T03:49:56.664779",
     "status": "completed"
    },
    "tags": []
   },
   "outputs": [
    {
     "name": "stdout",
     "output_type": "stream",
     "text": [
      "LinearRegression:\n",
      "RMSE: 30597.30285317604\n",
      "RMSE ($): 397.7649370912885\n",
      "RMSE (%): 37.60539168349894\n",
      "MAE: 21208.572368822537\n",
      "MAE ($): 275.711440794693\n",
      "MAE (%): 26.066241027993648\n",
      "R^2 (training): 0.5126316008150873\n",
      "R^2: 0.5212740736804882\n",
      "\n",
      "\n",
      "RandomForestRegressor:\n",
      "RMSE: 31466.31444193258\n",
      "RMSE ($): 409.0620877451235\n",
      "RMSE (%): 38.67344403208355\n",
      "MAE: 21505.31758292928\n",
      "MAE ($): 279.56912857808067\n",
      "MAE (%): 26.430953566881026\n",
      "R^2 (training): 0.5916270316915389\n",
      "R^2: 0.4936947691650986\n",
      "\n",
      "\n",
      "GradientBoostingRegressor:\n",
      "RMSE: 33310.28904823856\n",
      "RMSE ($): 433.0337576271013\n",
      "RMSE (%): 40.9397675592687\n",
      "MAE: 23071.515842136258\n",
      "MAE ($): 299.9297059477713\n",
      "MAE (%): 28.355878102684645\n",
      "R^2 (training): 0.7601466326667662\n",
      "R^2: 0.4326155092452474\n",
      "\n",
      "\n",
      "ExtraTreesRegressor:\n",
      "RMSE: 31787.65855015161\n",
      "RMSE ($): 413.2395611519709\n",
      "RMSE (%): 39.06838966218529\n",
      "MAE: 22898.181127675416\n",
      "MAE ($): 297.6763546597804\n",
      "MAE (%): 28.14284233737794\n",
      "R^2 (training): 0.48807592363731855\n",
      "R^2: 0.48330086260578\n",
      "\n",
      "\n",
      "VotingRegressor:\n",
      "RMSE: 30699.76908991512\n",
      "RMSE ($): 399.09699816889656\n",
      "RMSE (%): 37.73132706366619\n",
      "MAE: 21133.722786175484\n",
      "MAE ($): 274.7383962202813\n",
      "MAE (%): 25.974247694911455\n",
      "R^2 (training): 0.5635801615561604\n",
      "R^2: 0.5180623278163891\n",
      "\n",
      "\n"
     ]
    }
   ],
   "source": [
    "for model in models:\n",
    "    mname = str(model).split('(')[0]\n",
    "    y_pred = model.predict(X_test)\n",
    "    rmse = mean_squared_error(y_test,y_pred,squared=False)\n",
    "    mae = mean_absolute_error(y_test,y_pred)\n",
    "    y_m = y.mean()\n",
    "    print(f\"{mname}:\")\n",
    "    print(\"RMSE: \" + str(rmse))\n",
    "    print(\"RMSE ($): \" + str(rmse*0.013))\n",
    "    print(\"RMSE (%): \" + str(rmse/y_m*100))\n",
    "    print(\"MAE: \" + str(mae))\n",
    "    print(\"MAE ($): \" + str(mae*0.013))\n",
    "    print(\"MAE (%): \" + str(mae/y_m*100))\n",
    "    print(\"R^2 (training): \" + str(r2_score(y_train,model.predict(X_train))))\n",
    "    print(\"R^2: \" + str(r2_score(y_test,y_pred)))\n",
    "    print(\"\\n\")"
   ]
  },
  {
   "cell_type": "markdown",
   "id": "bc47ec0b",
   "metadata": {
    "papermill": {
     "duration": 0.033224,
     "end_time": "2021-08-01T03:49:56.882964",
     "exception": false,
     "start_time": "2021-08-01T03:49:56.849740",
     "status": "completed"
    },
    "tags": []
   },
   "source": [
    "Final evaluation on the training data shows that the Linear Regression is the most accurate model, with an R^2 of 0.52, the same as the 0.52 based on the original linear correlation, and with a RMSE of 30,597, which is 38% of the mean price."
   ]
  },
  {
   "cell_type": "markdown",
   "id": "ff57957d",
   "metadata": {
    "papermill": {
     "duration": 0.03178,
     "end_time": "2021-08-01T03:49:56.947515",
     "exception": false,
     "start_time": "2021-08-01T03:49:56.915735",
     "status": "completed"
    },
    "tags": []
   },
   "source": [
    "## 4.5 Checking assumptions of linear regression <a id=\"_45\"></a>"
   ]
  },
  {
   "cell_type": "markdown",
   "id": "52d87ad1",
   "metadata": {
    "papermill": {
     "duration": 0.032343,
     "end_time": "2021-08-01T03:49:57.011504",
     "exception": false,
     "start_time": "2021-08-01T03:49:56.979161",
     "status": "completed"
    },
    "tags": []
   },
   "source": [
    "Linear regression generally assumes that the residuals are independent and follow a normal distribution and constant variance over all independent variable values."
   ]
  },
  {
   "cell_type": "code",
   "execution_count": 10,
   "id": "b4a8d4ac",
   "metadata": {
    "execution": {
     "iopub.execute_input": "2021-08-01T03:49:57.084067Z",
     "iopub.status.busy": "2021-08-01T03:49:57.083258Z",
     "iopub.status.idle": "2021-08-01T03:49:57.535526Z",
     "shell.execute_reply": "2021-08-01T03:49:57.534759Z",
     "shell.execute_reply.started": "2021-08-01T03:16:04.255673Z"
    },
    "papermill": {
     "duration": 0.491756,
     "end_time": "2021-08-01T03:49:57.535704",
     "exception": false,
     "start_time": "2021-08-01T03:49:57.043948",
     "status": "completed"
    },
    "tags": []
   },
   "outputs": [
    {
     "name": "stdout",
     "output_type": "stream",
     "text": [
      "Residuals likely close to normal\n",
      "Mu: -810.39, Sigma: 30586.57, skew: 1.81, ex. kurt: 6.9\n"
     ]
    },
    {
     "data": {
      "image/png": "[encoded data removed]",
      "text/plain": [
       "<Figure size 432x288 with 1 Axes>"
      ]
     },
     "metadata": {
      "needs_background": "light"
     },
     "output_type": "display_data"
    },
    {
     "data": {
      "image/png": "[encoded data removed]",
      "text/plain": [
       "<Figure size 432x288 with 1 Axes>"
      ]
     },
     "metadata": {
      "needs_background": "light"
     },
     "output_type": "display_data"
    }
   ],
   "source": [
    "import scipy as sc\n",
    "import seaborn as sb\n",
    "# Test normality of residuals\n",
    "y_pred = lm.predict(X_test)\n",
    "res = (y_test - y_pred)\n",
    "#res = (y_train - lm.predict(X_train))\n",
    "mu = np.mean(res)\n",
    "s = np.std(res)\n",
    "skew = sc.stats.skew(res)\n",
    "kurt = sc.stats.kurtosis(res,fisher=True)\n",
    "if abs(kurt) > 7 or abs(skew) > 2:\n",
    "    print(\"Residuals likely non-normal\")\n",
    "else:\n",
    "    print(\"Residuals likely close to normal\")\n",
    "print(f\"Mu: {round(mu,2)}, Sigma: {round(s,2)}, skew: {round(skew,2)}, ex. kurt: {round(kurt,2)}\")\n",
    "sc.stats.probplot(res,plot=plt);\n",
    "plt.show()\n",
    "plt.scatter(res, y_pred)\n",
    "plt.title(\"Residuals vs Fitted\")\n",
    "plt.show()\n",
    "#sb.kdeplot(data=res,bw_adjust=0.2)"
   ]
  },
  {
   "cell_type": "markdown",
   "id": "8a8390b1",
   "metadata": {
    "papermill": {
     "duration": 0.039129,
     "end_time": "2021-08-01T03:49:57.622173",
     "exception": false,
     "start_time": "2021-08-01T03:49:57.583044",
     "status": "completed"
    },
    "tags": []
   },
   "source": [
    "The QQ plot, as well as skewness and kurtosis values, show that the residuals are close to being normally distributed. There is some pattern in the residuals vs fitted plot, meaning that the errors are not independent, and do not have a constant variance. This means that a linear model probably isn't the best fit for the data. However, the model still has good predictive performance compared with the other models, so there is not reason to stop using it."
   ]
  },
  {
   "cell_type": "markdown",
   "id": "54d897d5",
   "metadata": {
    "papermill": {
     "duration": 0.033645,
     "end_time": "2021-08-01T03:49:57.690081",
     "exception": false,
     "start_time": "2021-08-01T03:49:57.656436",
     "status": "completed"
    },
    "tags": []
   },
   "source": [
    "# 5 Discussion <a id=\"_5\"></a>"
   ]
  },
  {
   "cell_type": "markdown",
   "id": "f3f62702",
   "metadata": {
    "papermill": {
     "duration": 0.033591,
     "end_time": "2021-08-01T03:49:57.757635",
     "exception": false,
     "start_time": "2021-08-01T03:49:57.724044",
     "status": "completed"
    },
    "tags": []
   },
   "source": [
    "The best price predicting model (Linear Regression) on the testing data got an R^2 of about 0.521 on the testing data, with a Root Mean Square Error of 30,597, or about a 38% error on average. The second best model, the Voting Regressor (based on Linear Regression and Random Forest), had an R^2 of 0.518, and about the same performance as Linear Regression on cross-validation (mean R^2 of 0.45 vs 0.46), and with a slightly lower standard deviation of 0.11 compared to the 0.13 for Linear Regression.\n",
    "\n",
    "The features in the data with the strongest linear correlations with Price are RAM (r=0.57), Brand Name (r=0.54), Operating System (r=0.25), and Processor (r=0.24). RAM and Brand Name are by far the strongest of the correlations with price. RAM has a positive correlation with price. Warranty (r=0.02), the presence of an SSD (r=0.05), and rating (r=0.01) have a small positive correlation with price. Having an Intel Processor (r=-0.05), DDR4 memory (r=-0.04), more storage (r=-0.02), and a larger display (r=-0.03) have a negative correlation with price."
   ]
  }
 ],
 "metadata": {
  "kernelspec": {
   "display_name": "Python 3",
   "language": "python",
   "name": "python3"
  },
  "language_info": {
   "codemirror_mode": {
    "name": "ipython",
    "version": 3
   },
   "file_extension": ".py",
   "mimetype": "text/x-python",
   "name": "python",
   "nbconvert_exporter": "python",
   "pygments_lexer": "ipython3",
   "version": "3.7.10"
  },
  "papermill": {
   "default_parameters": {},
   "duration": 20.943746,
   "end_time": "2021-08-01T03:49:59.178685",
   "environment_variables": {},
   "exception": null,
   "input_path": "__notebook__.ipynb",
   "output_path": "__notebook__.ipynb",
   "parameters": {},
   "start_time": "2021-08-01T03:49:38.234939",
   "version": "2.3.3"
  }
 },
 "nbformat": 4,
 "nbformat_minor": 5
}
